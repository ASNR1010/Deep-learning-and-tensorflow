{
 "cells": [
  {
   "cell_type": "code",
   "execution_count": 1,
   "metadata": {},
   "outputs": [],
   "source": [
    "import tensorflow as tf"
   ]
  },
  {
   "cell_type": "code",
   "execution_count": 2,
   "metadata": {},
   "outputs": [
    {
     "data": {
      "text/plain": [
       "'1.14.0'"
      ]
     },
     "execution_count": 2,
     "metadata": {},
     "output_type": "execute_result"
    }
   ],
   "source": [
    "tf.VERSION  "
   ]
  },
  {
   "cell_type": "code",
   "execution_count": 3,
   "metadata": {},
   "outputs": [
    {
     "name": "stdout",
     "output_type": "stream",
     "text": [
      "a Tensor(\"Const:0\", shape=(), dtype=int32) b Tensor(\"Const_1:0\", shape=(), dtype=int32) c Tensor(\"add:0\", shape=(), dtype=int32)\n"
     ]
    }
   ],
   "source": [
    "#no value is assigned to graph see const value 0 in all cases\n",
    "a=tf.constant(5)\n",
    "b=tf.constant(6)\n",
    "c=a+b\n",
    "print(\"a {} b {} c {}\".format(a,b,c))"
   ]
  },
  {
   "cell_type": "code",
   "execution_count": 10,
   "metadata": {},
   "outputs": [
    {
     "name": "stdout",
     "output_type": "stream",
     "text": [
      "5\n",
      "6\n",
      "11\n"
     ]
    }
   ],
   "source": [
    "with tf.Session() as sess:  #by using session you can see the value\n",
    "    print(sess.run(a))\n",
    "    print(sess.run(b))\n",
    "    print(sess.run(c))\n",
    "sess.close()    "
   ]
  },
  {
   "cell_type": "code",
   "execution_count": 16,
   "metadata": {},
   "outputs": [
    {
     "name": "stdout",
     "output_type": "stream",
     "text": [
      "a <tf.Variable 'Variable_3:0' shape=() dtype=int32_ref> b Tensor(\"Const_5:0\", shape=(), dtype=int32) c Tensor(\"add_4:0\", shape=(), dtype=int32)\n"
     ]
    }
   ],
   "source": [
    "a=tf.Variable(5)     #taking a as Variable\n",
    "b=tf.constant(6)\n",
    "c=a+b\n",
    "print(\"a {} b {} c {}\".format(a,b,c))"
   ]
  },
  {
   "cell_type": "code",
   "execution_count": 21,
   "metadata": {},
   "outputs": [
    {
     "name": "stdout",
     "output_type": "stream",
     "text": [
      "a <tf.Variable 'Variable_7:0' shape=() dtype=int32_ref> b Tensor(\"Const_9:0\", shape=(), dtype=int32) c Tensor(\"add_5:0\", shape=(), dtype=int32)\n"
     ]
    }
   ],
   "source": [
    "a=tf.Variable(5)                        \n",
    "b=tf.constant(6)\n",
    "i=tf.global_variables_initializer()\n",
    "c=a+b\n",
    "print(\"a {} b {} c {}\".format(a,b,c))"
   ]
  },
  {
   "cell_type": "code",
   "execution_count": 22,
   "metadata": {},
   "outputs": [
    {
     "name": "stdout",
     "output_type": "stream",
     "text": [
      "5\n",
      "6\n",
      "11\n"
     ]
    }
   ],
   "source": [
    "with tf.Session() as sess:     \n",
    "    sess.run(i)               \n",
    "    print(sess.run(a))\n",
    "    print(sess.run(b))\n",
    "    print(sess.run(c))\n",
    "sess.close()    "
   ]
  }
 ],
 "metadata": {
  "kernelspec": {
   "display_name": "Python 3",
   "language": "python",
   "name": "python3"
  },
  "language_info": {
   "codemirror_mode": {
    "name": "ipython",
    "version": 3
   },
   "file_extension": ".py",
   "mimetype": "text/x-python",
   "name": "python",
   "nbconvert_exporter": "python",
   "pygments_lexer": "ipython3",
   "version": "3.7.3"
  }
 },
 "nbformat": 4,
 "nbformat_minor": 2
}
